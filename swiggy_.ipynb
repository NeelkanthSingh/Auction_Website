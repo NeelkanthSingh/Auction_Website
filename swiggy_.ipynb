{
  "nbformat": 4,
  "nbformat_minor": 0,
  "metadata": {
    "colab": {
      "name": "swiggy_.ipynb",
      "provenance": [],
      "collapsed_sections": [
        "kw51vqgJZTWn",
        "3Dt7wFakaNK_",
        "ZVOt6YWnaiQ6",
        "WBMYzdEcjkl2",
        "cQQVPloFrhIl",
        "vYraaNcXvVdM",
        "XudD1QtFZXx2",
        "oa2A-M3naqFH",
        "4St4yBCXaMyl",
        "846m_eWJcqOc"
      ],
      "mount_file_id": "1yZS9ec05TGc-SCmQ71yG-F4yDnwF7ucU",
      "authorship_tag": "ABX9TyNY7SGcJ+gIZVKocuZZeMzQ",
      "include_colab_link": true
    },
    "kernelspec": {
      "name": "python3",
      "display_name": "Python 3"
    },
    "language_info": {
      "name": "python"
    }
  },
  "cells": [
    {
      "cell_type": "markdown",
      "metadata": {
        "id": "view-in-github",
        "colab_type": "text"
      },
      "source": [
        "<a href=\"https://colab.research.google.com/github/NeelkanthSingh/Auction_Website/blob/main/swiggy_.ipynb\" target=\"_parent\"><img src=\"https://colab.research.google.com/assets/colab-badge.svg\" alt=\"Open In Colab\"/></a>"
      ]
    },
    {
      "cell_type": "code",
      "metadata": {
        "id": "eXe4GwuyZRuP"
      },
      "source": [
        "import pandas as pd \n",
        "import numpy as np\n",
        "import re\n",
        "import datetime"
      ],
      "execution_count": 1,
      "outputs": []
    },
    {
      "cell_type": "markdown",
      "metadata": {
        "id": "kw51vqgJZTWn"
      },
      "source": [
        "#Input the data"
      ]
    },
    {
      "cell_type": "code",
      "metadata": {
        "id": "8VwdhM8fZBmA"
      },
      "source": [
        "dis_str = pd.read_csv('/content/drive/MyDrive/Icecream Labs/Swiggy/discount_structure2.csv')  #Discount structure"
      ],
      "execution_count": 2,
      "outputs": []
    },
    {
      "cell_type": "code",
      "metadata": {
        "id": "G7Ju7x-NZkWI"
      },
      "source": [
        "swi_sta = pd.read_excel('/content/drive/MyDrive/Icecream Labs/Swiggy/December  20 Swiggy statement.xlsx', header=None) #Swiggy statement"
      ],
      "execution_count": 3,
      "outputs": []
    },
    {
      "cell_type": "code",
      "metadata": {
        "id": "QhOsj2bHZqmZ"
      },
      "source": [
        "ris_api = pd.read_csv('/content/drive/MyDrive/Icecream Labs/Swiggy/rista_api (11).csv') #Rista Api"
      ],
      "execution_count": 4,
      "outputs": []
    },
    {
      "cell_type": "markdown",
      "metadata": {
        "id": "3Dt7wFakaNK_"
      },
      "source": [
        "#Preprocess the Synthetic data"
      ]
    },
    {
      "cell_type": "markdown",
      "metadata": {
        "id": "ZVOt6YWnaiQ6"
      },
      "source": [
        "##Discount structure"
      ]
    },
    {
      "cell_type": "code",
      "metadata": {
        "colab": {
          "base_uri": "https://localhost:8080/",
          "height": 0
        },
        "id": "-jKW7xbraosw",
        "outputId": "db618a5c-afff-4323-80da-96f58834c461"
      },
      "source": [
        "dis_str.head(6)"
      ],
      "execution_count": 5,
      "outputs": [
        {
          "output_type": "execute_result",
          "data": {
            "text/html": [
              "<div>\n",
              "<style scoped>\n",
              "    .dataframe tbody tr th:only-of-type {\n",
              "        vertical-align: middle;\n",
              "    }\n",
              "\n",
              "    .dataframe tbody tr th {\n",
              "        vertical-align: top;\n",
              "    }\n",
              "\n",
              "    .dataframe thead th {\n",
              "        text-align: right;\n",
              "    }\n",
              "</style>\n",
              "<table border=\"1\" class=\"dataframe\">\n",
              "  <thead>\n",
              "    <tr style=\"text-align: right;\">\n",
              "      <th></th>\n",
              "      <th>Aggregator</th>\n",
              "      <th>Brands</th>\n",
              "      <th>Discount Coupon</th>\n",
              "      <th>Active (Y/N)</th>\n",
              "      <th>Min Ord value1</th>\n",
              "      <th>Discount percentage1</th>\n",
              "      <th>Max Discount Amount1</th>\n",
              "      <th>Day1</th>\n",
              "      <th>Dates</th>\n",
              "      <th>MinTime1</th>\n",
              "      <th>MaxTime1</th>\n",
              "    </tr>\n",
              "  </thead>\n",
              "  <tbody>\n",
              "    <tr>\n",
              "      <th>0</th>\n",
              "      <td>Swiggy</td>\n",
              "      <td>Growfit,Ghar Ka Tadka</td>\n",
              "      <td>SwiggyIt 30</td>\n",
              "      <td>y</td>\n",
              "      <td>149</td>\n",
              "      <td>30</td>\n",
              "      <td>75</td>\n",
              "      <td>NaN</td>\n",
              "      <td>1-31</td>\n",
              "      <td>NaN</td>\n",
              "      <td>NaN</td>\n",
              "    </tr>\n",
              "    <tr>\n",
              "      <th>1</th>\n",
              "      <td>Swiggy</td>\n",
              "      <td>Growfit,Ghar Ka Tadka</td>\n",
              "      <td>Jumbo</td>\n",
              "      <td>y</td>\n",
              "      <td>400</td>\n",
              "      <td>20</td>\n",
              "      <td>100</td>\n",
              "      <td>NaN</td>\n",
              "      <td>1-31</td>\n",
              "      <td>NaN</td>\n",
              "      <td>NaN</td>\n",
              "    </tr>\n",
              "    <tr>\n",
              "      <th>2</th>\n",
              "      <td>Swiggy</td>\n",
              "      <td>Growfit,Ghar Ka Tadka</td>\n",
              "      <td>Party</td>\n",
              "      <td>y</td>\n",
              "      <td>800</td>\n",
              "      <td>15</td>\n",
              "      <td>300</td>\n",
              "      <td>Mon,Tue,Thu,Fri</td>\n",
              "      <td>1-31</td>\n",
              "      <td>12:00 AM</td>\n",
              "      <td>4:00 PM</td>\n",
              "    </tr>\n",
              "    <tr>\n",
              "      <th>3</th>\n",
              "      <td>Swiggy</td>\n",
              "      <td>Growfit</td>\n",
              "      <td>Deal 60</td>\n",
              "      <td>y</td>\n",
              "      <td>0</td>\n",
              "      <td>15</td>\n",
              "      <td>120</td>\n",
              "      <td>Wed,Fri,Sat,Sun</td>\n",
              "      <td>12,19,26,31</td>\n",
              "      <td>4:00 PM</td>\n",
              "      <td>11:59 PM</td>\n",
              "    </tr>\n",
              "    <tr>\n",
              "      <th>4</th>\n",
              "      <td>Swiggy</td>\n",
              "      <td>Ghar Ka Tadka</td>\n",
              "      <td>Deal 60</td>\n",
              "      <td>y</td>\n",
              "      <td>149</td>\n",
              "      <td>60</td>\n",
              "      <td>120</td>\n",
              "      <td>NaN</td>\n",
              "      <td>13,20,27,31</td>\n",
              "      <td>NaN</td>\n",
              "      <td>NaN</td>\n",
              "    </tr>\n",
              "    <tr>\n",
              "      <th>5</th>\n",
              "      <td>Zomato</td>\n",
              "      <td>Ghar Ka Tadka,Gunpowder Idlis</td>\n",
              "      <td>Deal 60</td>\n",
              "      <td>y</td>\n",
              "      <td>149</td>\n",
              "      <td>60</td>\n",
              "      <td>120</td>\n",
              "      <td>NaN</td>\n",
              "      <td>29</td>\n",
              "      <td>NaN</td>\n",
              "      <td>NaN</td>\n",
              "    </tr>\n",
              "  </tbody>\n",
              "</table>\n",
              "</div>"
            ],
            "text/plain": [
              "  Aggregator                         Brands  ...  MinTime1  MaxTime1\n",
              "0     Swiggy          Growfit,Ghar Ka Tadka  ...       NaN       NaN\n",
              "1     Swiggy          Growfit,Ghar Ka Tadka  ...       NaN       NaN\n",
              "2     Swiggy          Growfit,Ghar Ka Tadka  ...  12:00 AM   4:00 PM\n",
              "3     Swiggy                        Growfit  ...   4:00 PM  11:59 PM\n",
              "4     Swiggy                  Ghar Ka Tadka  ...       NaN       NaN\n",
              "5     Zomato  Ghar Ka Tadka,Gunpowder Idlis  ...       NaN       NaN\n",
              "\n",
              "[6 rows x 11 columns]"
            ]
          },
          "metadata": {},
          "execution_count": 5
        }
      ]
    },
    {
      "cell_type": "code",
      "metadata": {
        "id": "FEd3-yeLazkl"
      },
      "source": [
        "dis_str = dis_str[dis_str['Aggregator'] == \"Swiggy\"]  #Keep discount structure related to swiggy only"
      ],
      "execution_count": 6,
      "outputs": []
    },
    {
      "cell_type": "code",
      "metadata": {
        "id": "1E8fGmRjbO1X"
      },
      "source": [
        "dis_str = dis_str.drop(labels=['Aggregator'],axis=1)  #Remove aggregator column, we know it only has swiggy value, It serves no purpose"
      ],
      "execution_count": 7,
      "outputs": []
    },
    {
      "cell_type": "code",
      "metadata": {
        "id": "vuXBeoA5bt7_"
      },
      "source": [
        "dis_str['Discount Coupon']=['SWIGGYIT','JUMBO','PARTY','DEAL60','DEAL60'] #Capitalized discount coupon to keep them similar to those of Rista api"
      ],
      "execution_count": 8,
      "outputs": []
    },
    {
      "cell_type": "code",
      "metadata": {
        "id": "Z0tWPxPJi5kX"
      },
      "source": [
        "dis_str['Brands'] = pd.Series(['Grow,Ghar', 'Grow,Ghar', 'Grow,Ghar', 'Grow', 'Ghar', 'Ghar, Gunp', 'Gunt'])  #Changed them to keep them similar to those of Rista api"
      ],
      "execution_count": 9,
      "outputs": []
    },
    {
      "cell_type": "code",
      "metadata": {
        "id": "V9WFSFQAcWxV"
      },
      "source": [
        "dis_str['Brands'] = dis_str['Brands'].apply(lambda x: list(map(str,x.split(','))))  #Make a list of brands, makes it easier to perform operation"
      ],
      "execution_count": 10,
      "outputs": []
    },
    {
      "cell_type": "code",
      "metadata": {
        "id": "GIoX5HkpitCY"
      },
      "source": [
        "def funct(dates):\n",
        "  if re.search('-',dates):\n",
        "    mini, maxi = map(int,dates.split('-'))\n",
        "    return (mini, maxi)\n",
        "  elif re.search(',',dates):\n",
        "    dates = list(map(int,dates.split(',')))\n",
        "  return dates\n",
        "\n",
        "dis_str['Dates'] = dis_str['Dates'].apply(lambda x: funct(x))\n",
        "\n",
        "#It converts dates from string format to list or tuple format which will later make it easier to check for dates "
      ],
      "execution_count": 11,
      "outputs": []
    },
    {
      "cell_type": "code",
      "metadata": {
        "id": "SrpWebINkRoQ"
      },
      "source": [
        "dis_str['MaxTime1']=pd.to_datetime(dis_str['MaxTime1'], format='%I:%M %p')\n",
        "dis_str['MinTime1']=pd.to_datetime(dis_str['MinTime1'], format='%I:%M %p')\n",
        "\n",
        "# conveting from string to timestamp"
      ],
      "execution_count": 12,
      "outputs": []
    },
    {
      "cell_type": "code",
      "metadata": {
        "colab": {
          "base_uri": "https://localhost:8080/"
        },
        "id": "lXSUP7Twtljg",
        "outputId": "db8520d8-179c-4022-aba0-3e733a5832cb"
      },
      "source": [
        "dis_str['Day1'][dis_str['Day1'].notnull()] = dis_str['Day1'][dis_str['Day1'].notnull()].apply(lambda x: list(map(str,x.split(','))))\n",
        "\n",
        "# converting days from str format to list"
      ],
      "execution_count": 13,
      "outputs": [
        {
          "output_type": "stream",
          "text": [
            "/usr/local/lib/python3.7/dist-packages/ipykernel_launcher.py:1: SettingWithCopyWarning: \n",
            "A value is trying to be set on a copy of a slice from a DataFrame\n",
            "\n",
            "See the caveats in the documentation: https://pandas.pydata.org/pandas-docs/stable/user_guide/indexing.html#returning-a-view-versus-a-copy\n",
            "  \"\"\"Entry point for launching an IPython kernel.\n"
          ],
          "name": "stderr"
        }
      ]
    },
    {
      "cell_type": "code",
      "metadata": {
        "id": "B4-tcQAKcsaG"
      },
      "source": [
        "def funct(brands,discount_coupon):\n",
        "  result=list()\n",
        "  for each in brands:\n",
        "    result.append(discount_coupon+'-'+each)\n",
        "  return result\n",
        "\n",
        "# Made a temporary function, which is used to create another column with list of composite enteries of the type DISCOUNT_COUPON-BRAND"
      ],
      "execution_count": 14,
      "outputs": []
    },
    {
      "cell_type": "code",
      "metadata": {
        "id": "AyzqeVzyeG0u"
      },
      "source": [
        "dis_str['Coupon Index'] = dis_str.apply(lambda x: funct(x['Brands'],x['Discount Coupon']),axis=1) #New column to store composite entry"
      ],
      "execution_count": 15,
      "outputs": []
    },
    {
      "cell_type": "markdown",
      "metadata": {
        "id": "WBMYzdEcjkl2"
      },
      "source": [
        "##Swiggy Structure"
      ]
    },
    {
      "cell_type": "code",
      "metadata": {
        "colab": {
          "base_uri": "https://localhost:8080/",
          "height": 0
        },
        "id": "4H1GV_1yjsL-",
        "outputId": "62c46f7f-4dc6-4249-ff7e-871abfec0291"
      },
      "source": [
        "swi_sta.head()"
      ],
      "execution_count": 16,
      "outputs": [
        {
          "output_type": "execute_result",
          "data": {
            "text/html": [
              "<div>\n",
              "<style scoped>\n",
              "    .dataframe tbody tr th:only-of-type {\n",
              "        vertical-align: middle;\n",
              "    }\n",
              "\n",
              "    .dataframe tbody tr th {\n",
              "        vertical-align: top;\n",
              "    }\n",
              "\n",
              "    .dataframe thead th {\n",
              "        text-align: right;\n",
              "    }\n",
              "</style>\n",
              "<table border=\"1\" class=\"dataframe\">\n",
              "  <thead>\n",
              "    <tr style=\"text-align: right;\">\n",
              "      <th></th>\n",
              "      <th>0</th>\n",
              "      <th>1</th>\n",
              "      <th>2</th>\n",
              "      <th>3</th>\n",
              "      <th>4</th>\n",
              "      <th>5</th>\n",
              "      <th>6</th>\n",
              "      <th>7</th>\n",
              "      <th>8</th>\n",
              "      <th>9</th>\n",
              "      <th>10</th>\n",
              "      <th>11</th>\n",
              "      <th>12</th>\n",
              "      <th>13</th>\n",
              "      <th>14</th>\n",
              "      <th>15</th>\n",
              "      <th>16</th>\n",
              "      <th>17</th>\n",
              "      <th>18</th>\n",
              "      <th>19</th>\n",
              "      <th>20</th>\n",
              "      <th>21</th>\n",
              "      <th>22</th>\n",
              "      <th>23</th>\n",
              "      <th>24</th>\n",
              "      <th>25</th>\n",
              "      <th>26</th>\n",
              "      <th>27</th>\n",
              "      <th>28</th>\n",
              "      <th>29</th>\n",
              "      <th>30</th>\n",
              "      <th>31</th>\n",
              "      <th>32</th>\n",
              "      <th>33</th>\n",
              "      <th>34</th>\n",
              "      <th>35</th>\n",
              "      <th>36</th>\n",
              "      <th>37</th>\n",
              "      <th>38</th>\n",
              "      <th>39</th>\n",
              "      <th>40</th>\n",
              "      <th>41</th>\n",
              "      <th>42</th>\n",
              "      <th>43</th>\n",
              "      <th>44</th>\n",
              "      <th>45</th>\n",
              "      <th>46</th>\n",
              "      <th>47</th>\n",
              "      <th>48</th>\n",
              "    </tr>\n",
              "  </thead>\n",
              "  <tbody>\n",
              "    <tr>\n",
              "      <th>0</th>\n",
              "      <td>NaN</td>\n",
              "      <td>NaN</td>\n",
              "      <td>NaN</td>\n",
              "      <td>NaN</td>\n",
              "      <td>NaN</td>\n",
              "      <td>NaN</td>\n",
              "      <td>NaN</td>\n",
              "      <td>1.98252e+06</td>\n",
              "      <td>79916</td>\n",
              "      <td>2.06244e+06</td>\n",
              "      <td>0</td>\n",
              "      <td>338238</td>\n",
              "      <td>1.7242e+06</td>\n",
              "      <td>81145.1</td>\n",
              "      <td>0</td>\n",
              "      <td>1.80535e+06</td>\n",
              "      <td>0</td>\n",
              "      <td>568127</td>\n",
              "      <td>0</td>\n",
              "      <td>220</td>\n",
              "      <td>568339</td>\n",
              "      <td>51150.2</td>\n",
              "      <td>51150.2</td>\n",
              "      <td>0</td>\n",
              "      <td>102300</td>\n",
              "      <td>0</td>\n",
              "      <td>670639</td>\n",
              "      <td>9272.75</td>\n",
              "      <td>0</td>\n",
              "      <td>6339</td>\n",
              "      <td>117</td>\n",
              "      <td>0</td>\n",
              "      <td>15728.8</td>\n",
              "      <td>1.11816e+06</td>\n",
              "      <td>8554.18</td>\n",
              "      <td>8554.18</td>\n",
              "      <td>0</td>\n",
              "      <td>12809.6</td>\n",
              "      <td>1.08824e+06</td>\n",
              "      <td>0</td>\n",
              "      <td>0</td>\n",
              "      <td>0</td>\n",
              "      <td>0</td>\n",
              "      <td>0</td>\n",
              "      <td>0</td>\n",
              "      <td>0</td>\n",
              "      <td>0</td>\n",
              "      <td>0</td>\n",
              "      <td>0</td>\n",
              "    </tr>\n",
              "    <tr>\n",
              "      <th>1</th>\n",
              "      <td>Week</td>\n",
              "      <td>kitchen id</td>\n",
              "      <td>Order Date</td>\n",
              "      <td>Order No</td>\n",
              "      <td>Order Status</td>\n",
              "      <td>Order Sub Type</td>\n",
              "      <td>Cancellation \\nAttribution</td>\n",
              "      <td>Item's total\\nA</td>\n",
              "      <td>Packing &amp; Service charges\\nB</td>\n",
              "      <td>Bill value\\n(without taxes &amp; discount)\\nC=A+B</td>\n",
              "      <td>Merchant Trade Discount\\nD</td>\n",
              "      <td>Merchant coupon Discount share\\nE</td>\n",
              "      <td>Net bill value (without taxes)\\nF = C - D - E</td>\n",
              "      <td>GST liability of \\nMerchant G(i)</td>\n",
              "      <td>CESS (collected from customer)\\nG(ii)</td>\n",
              "      <td>Customer payable\\n(Net bill value after taxes ...</td>\n",
              "      <td>Cash prepayment at Merchant\\nI</td>\n",
              "      <td>Swiggy platform service fee\\nJ</td>\n",
              "      <td>Lead Generation fee @ 7.5%\\nK</td>\n",
              "      <td>Call Center Service Fees \\nL</td>\n",
              "      <td>Total Swiggy Service fee\\n(without taxes)\\nM =...</td>\n",
              "      <td>CGST\\n(i)=O*9%</td>\n",
              "      <td>SGST\\n(ii)=O*9%</td>\n",
              "      <td>IGST\\n(iii)=O*18%</td>\n",
              "      <td>Total GST\\nN(i) = (i) + (ii) + (iii)</td>\n",
              "      <td>CESS \\nN(ii)</td>\n",
              "      <td>Total Swiggy service fee \\n(including taxes)\\n...</td>\n",
              "      <td>Buyer Cancellation Cost Sharing\\nP = F*60%</td>\n",
              "      <td>Adhoc Adjustment\\n Q</td>\n",
              "      <td>Refund To Customer\\nR1</td>\n",
              "      <td>Delivery Fee(sponsored by merchant) \\nR2</td>\n",
              "      <td>Comment\\nR3</td>\n",
              "      <td>Total of other charges\\nS = P - Q + R1 + R2</td>\n",
              "      <td>Net Payable Amount (before TCS and TDS deducti...</td>\n",
              "      <td>CTCS\\nU1 = F*0.5%</td>\n",
              "      <td>STCS\\nU2 = F*0.5%</td>\n",
              "      <td>ITCS\\nU3 = F*01%</td>\n",
              "      <td>TDS\\nU4</td>\n",
              "      <td>Net Payable Amount (after TCS and TDS deductio...</td>\n",
              "      <td>Order Type</td>\n",
              "      <td>Adhoc Remark</td>\n",
              "      <td>Original Payout Cycle</td>\n",
              "      <td>Remarks</td>\n",
              "      <td>MFR (Marked Food Ready) \\napplicable on the or...</td>\n",
              "      <td>Cancellation Policy Applied</td>\n",
              "      <td>Coupon code applied</td>\n",
              "      <td>Is_replicated</td>\n",
              "      <td>Base order ID</td>\n",
              "      <td>Discount on Swiggy \\nplatform service fee\\nW</td>\n",
              "    </tr>\n",
              "    <tr>\n",
              "      <th>2</th>\n",
              "      <td>Week 1</td>\n",
              "      <td>228127</td>\n",
              "      <td>2020-12-01 11:17:30</td>\n",
              "      <td>89876850580</td>\n",
              "      <td>delivered</td>\n",
              "      <td>NaN</td>\n",
              "      <td>NaN</td>\n",
              "      <td>598</td>\n",
              "      <td>30</td>\n",
              "      <td>628</td>\n",
              "      <td>0</td>\n",
              "      <td>75</td>\n",
              "      <td>553</td>\n",
              "      <td>26.16</td>\n",
              "      <td>0</td>\n",
              "      <td>579.16</td>\n",
              "      <td>0</td>\n",
              "      <td>185.328</td>\n",
              "      <td>0</td>\n",
              "      <td>0</td>\n",
              "      <td>185.33</td>\n",
              "      <td>16.68</td>\n",
              "      <td>16.68</td>\n",
              "      <td>0</td>\n",
              "      <td>33.36</td>\n",
              "      <td>0</td>\n",
              "      <td>218.69</td>\n",
              "      <td>0</td>\n",
              "      <td>0</td>\n",
              "      <td>0</td>\n",
              "      <td>0</td>\n",
              "      <td>NaN</td>\n",
              "      <td>0</td>\n",
              "      <td>360.47</td>\n",
              "      <td>2.77</td>\n",
              "      <td>2.77</td>\n",
              "      <td>0</td>\n",
              "      <td>4.1475</td>\n",
              "      <td>350.78</td>\n",
              "      <td>regular</td>\n",
              "      <td>0</td>\n",
              "      <td>Current week</td>\n",
              "      <td>NaN</td>\n",
              "      <td>0</td>\n",
              "      <td>NaN</td>\n",
              "      <td>SWIGGYIT</td>\n",
              "      <td>N</td>\n",
              "      <td>NaN</td>\n",
              "      <td>0</td>\n",
              "    </tr>\n",
              "    <tr>\n",
              "      <th>3</th>\n",
              "      <td>Week 1</td>\n",
              "      <td>228127</td>\n",
              "      <td>2020-12-01 11:58:24</td>\n",
              "      <td>89879303982</td>\n",
              "      <td>delivered</td>\n",
              "      <td>NaN</td>\n",
              "      <td>NaN</td>\n",
              "      <td>149</td>\n",
              "      <td>10</td>\n",
              "      <td>159</td>\n",
              "      <td>0</td>\n",
              "      <td>0</td>\n",
              "      <td>159</td>\n",
              "      <td>7.46</td>\n",
              "      <td>0</td>\n",
              "      <td>166.46</td>\n",
              "      <td>0</td>\n",
              "      <td>53.264</td>\n",
              "      <td>0</td>\n",
              "      <td>0</td>\n",
              "      <td>53.26</td>\n",
              "      <td>4.79</td>\n",
              "      <td>4.79</td>\n",
              "      <td>0</td>\n",
              "      <td>9.58</td>\n",
              "      <td>0</td>\n",
              "      <td>62.84</td>\n",
              "      <td>0</td>\n",
              "      <td>0</td>\n",
              "      <td>0</td>\n",
              "      <td>0</td>\n",
              "      <td>NaN</td>\n",
              "      <td>0</td>\n",
              "      <td>103.6</td>\n",
              "      <td>0.8</td>\n",
              "      <td>0.8</td>\n",
              "      <td>0</td>\n",
              "      <td>1.1925</td>\n",
              "      <td>100.81</td>\n",
              "      <td>regular</td>\n",
              "      <td>0</td>\n",
              "      <td>Current week</td>\n",
              "      <td>NaN</td>\n",
              "      <td>0</td>\n",
              "      <td>NaN</td>\n",
              "      <td>NaN</td>\n",
              "      <td>N</td>\n",
              "      <td>NaN</td>\n",
              "      <td>0</td>\n",
              "    </tr>\n",
              "    <tr>\n",
              "      <th>4</th>\n",
              "      <td>Week 1</td>\n",
              "      <td>228127</td>\n",
              "      <td>2020-12-01 11:58:37</td>\n",
              "      <td>89879317155</td>\n",
              "      <td>delivered</td>\n",
              "      <td>NaN</td>\n",
              "      <td>NaN</td>\n",
              "      <td>358</td>\n",
              "      <td>17</td>\n",
              "      <td>375</td>\n",
              "      <td>0</td>\n",
              "      <td>74.99</td>\n",
              "      <td>300.01</td>\n",
              "      <td>14.16</td>\n",
              "      <td>0</td>\n",
              "      <td>314.17</td>\n",
              "      <td>0</td>\n",
              "      <td>100.531</td>\n",
              "      <td>0</td>\n",
              "      <td>0</td>\n",
              "      <td>100.53</td>\n",
              "      <td>9.05</td>\n",
              "      <td>9.05</td>\n",
              "      <td>0</td>\n",
              "      <td>18.1</td>\n",
              "      <td>0</td>\n",
              "      <td>118.63</td>\n",
              "      <td>0</td>\n",
              "      <td>0</td>\n",
              "      <td>0</td>\n",
              "      <td>0</td>\n",
              "      <td>NaN</td>\n",
              "      <td>0</td>\n",
              "      <td>195.53</td>\n",
              "      <td>1.5</td>\n",
              "      <td>1.5</td>\n",
              "      <td>0</td>\n",
              "      <td>2.25007</td>\n",
              "      <td>190.28</td>\n",
              "      <td>regular</td>\n",
              "      <td>0</td>\n",
              "      <td>Current week</td>\n",
              "      <td>NaN</td>\n",
              "      <td>0</td>\n",
              "      <td>NaN</td>\n",
              "      <td>SWIGGYIT</td>\n",
              "      <td>N</td>\n",
              "      <td>NaN</td>\n",
              "      <td>0</td>\n",
              "    </tr>\n",
              "  </tbody>\n",
              "</table>\n",
              "</div>"
            ],
            "text/plain": [
              "       0   ...                                            48\n",
              "0     NaN  ...                                             0\n",
              "1   Week   ...  Discount on Swiggy \\nplatform service fee\\nW\n",
              "2  Week 1  ...                                             0\n",
              "3  Week 1  ...                                             0\n",
              "4  Week 1  ...                                             0\n",
              "\n",
              "[5 rows x 49 columns]"
            ]
          },
          "metadata": {},
          "execution_count": 16
        }
      ]
    },
    {
      "cell_type": "code",
      "metadata": {
        "id": "ug09K_RWj28F"
      },
      "source": [
        "swi_sta = swi_sta[2:] #Remove the top two row "
      ],
      "execution_count": 17,
      "outputs": []
    },
    {
      "cell_type": "code",
      "metadata": {
        "id": "uLQW8dH9lzIR"
      },
      "source": [
        "swi_sta = swi_sta[[1,2,3,4,7,8,45]] #Keeping just the required column"
      ],
      "execution_count": 18,
      "outputs": []
    },
    {
      "cell_type": "code",
      "metadata": {
        "id": "wuytuzkWnfic"
      },
      "source": [
        "swi_sta.set_axis(['Kitchen_id','order_date', 'order_no',\"order_status\",'gross_total','discount_value','coupon_code'], axis=1, inplace=True)"
      ],
      "execution_count": 19,
      "outputs": []
    },
    {
      "cell_type": "code",
      "metadata": {
        "id": "a6s9q00UoMc3"
      },
      "source": [
        "swi_sta.reset_index(drop=True, inplace=True) #Resetting the index"
      ],
      "execution_count": 20,
      "outputs": []
    },
    {
      "cell_type": "code",
      "metadata": {
        "id": "I4B4OrYKojGm"
      },
      "source": [
        "swi_sta['discount_value'][swi_sta['coupon_code'] == 'SWIGGYIT']=-75\n",
        "swi_sta['discount_value'][swi_sta['coupon_code'] == 'DEAL60']=-120\n",
        "swi_sta['discount_value'][swi_sta['coupon_code'] == 'JUMBO']=-100\n",
        "swi_sta['discount_value'][swi_sta['coupon_code'] == 'PARTY']=-300\n",
        "\n",
        "# Changing them to make some of them right cause few will  have max discount. Also to make them similar to Rista Api"
      ],
      "execution_count": 21,
      "outputs": []
    },
    {
      "cell_type": "code",
      "metadata": {
        "id": "TJNheT-fpot1"
      },
      "source": [
        "def funct(dis_coupon):\n",
        "  if(dis_coupon!='PARTY' and dis_coupon!='JUMBO' and dis_coupon!='DEAL60' and dis_coupon!='SWIGGYIT'):\n",
        "    return True\n",
        "  return False\n",
        "\n",
        "# Temporary function to find out any coupon code other than those already present in Discount Structure"
      ],
      "execution_count": 22,
      "outputs": []
    },
    {
      "cell_type": "code",
      "metadata": {
        "id": "IxZXKjZyqShG"
      },
      "source": [
        "swi_sta['coupon_code'][swi_sta['coupon_code'].apply(lambda x: funct(x))]=np.NaN # Replacing those coupon codes with NaN"
      ],
      "execution_count": 23,
      "outputs": []
    },
    {
      "cell_type": "code",
      "metadata": {
        "id": "JM0jKqL7qklW"
      },
      "source": [
        "swi_sta['discount_value'][swi_sta['coupon_code'].apply(lambda x: funct(x))]=0 # Replacing discount value with 0"
      ],
      "execution_count": 24,
      "outputs": []
    },
    {
      "cell_type": "code",
      "metadata": {
        "id": "ur8zZqxXq96X"
      },
      "source": [
        "swi_sta['order_date'] = pd.to_datetime(swi_sta['order_date']) # changing to time format"
      ],
      "execution_count": 25,
      "outputs": []
    },
    {
      "cell_type": "code",
      "metadata": {
        "id": "-pCT2uE1rRXt"
      },
      "source": [
        "swi_sta=swi_sta[:2000]  #Taking top 2000 for training"
      ],
      "execution_count": 26,
      "outputs": []
    },
    {
      "cell_type": "markdown",
      "metadata": {
        "id": "cQQVPloFrhIl"
      },
      "source": [
        "##Rista API"
      ]
    },
    {
      "cell_type": "code",
      "metadata": {
        "colab": {
          "base_uri": "https://localhost:8080/",
          "height": 0
        },
        "id": "cz4P0EBdrfSG",
        "outputId": "b1f7488d-b819-4f7c-acea-28e693bba26b"
      },
      "source": [
        "ris_api.head()"
      ],
      "execution_count": 27,
      "outputs": [
        {
          "output_type": "execute_result",
          "data": {
            "text/html": [
              "<div>\n",
              "<style scoped>\n",
              "    .dataframe tbody tr th:only-of-type {\n",
              "        vertical-align: middle;\n",
              "    }\n",
              "\n",
              "    .dataframe tbody tr th {\n",
              "        vertical-align: top;\n",
              "    }\n",
              "\n",
              "    .dataframe thead th {\n",
              "        text-align: right;\n",
              "    }\n",
              "</style>\n",
              "<table border=\"1\" class=\"dataframe\">\n",
              "  <thead>\n",
              "    <tr style=\"text-align: right;\">\n",
              "      <th></th>\n",
              "      <th>branch_name</th>\n",
              "      <th>branch_code</th>\n",
              "      <th>brand_name</th>\n",
              "      <th>business_date</th>\n",
              "      <th>invoice_number</th>\n",
              "      <th>invoice_date</th>\n",
              "      <th>sale_status</th>\n",
              "      <th>order_source</th>\n",
              "      <th>source_order_number</th>\n",
              "      <th>gross_amount</th>\n",
              "      <th>discount</th>\n",
              "      <th>charge_amount</th>\n",
              "      <th>Unnamed: 12</th>\n",
              "      <th>Unnamed: 13</th>\n",
              "      <th>Unnamed: 14</th>\n",
              "      <th>Unnamed: 15</th>\n",
              "      <th>Unnamed: 16</th>\n",
              "      <th>Unnamed: 17</th>\n",
              "      <th>Unnamed: 18</th>\n",
              "      <th>Unnamed: 19</th>\n",
              "      <th>Unnamed: 20</th>\n",
              "      <th>Unnamed: 21</th>\n",
              "      <th>Unnamed: 22</th>\n",
              "      <th>Unnamed: 23</th>\n",
              "      <th>Unnamed: 24</th>\n",
              "      <th>Unnamed: 25</th>\n",
              "      <th>Unnamed: 26</th>\n",
              "      <th>Unnamed: 27</th>\n",
              "      <th>Unnamed: 28</th>\n",
              "      <th>Unnamed: 29</th>\n",
              "      <th>Unnamed: 30</th>\n",
              "      <th>Unnamed: 31</th>\n",
              "      <th>Unnamed: 32</th>\n",
              "      <th>Unnamed: 33</th>\n",
              "      <th>Unnamed: 34</th>\n",
              "      <th>Unnamed: 35</th>\n",
              "      <th>Unnamed: 36</th>\n",
              "      <th>Unnamed: 37</th>\n",
              "      <th>Unnamed: 38</th>\n",
              "      <th>Unnamed: 39</th>\n",
              "      <th>Unnamed: 40</th>\n",
              "      <th>Unnamed: 41</th>\n",
              "      <th>Unnamed: 42</th>\n",
              "      <th>Unnamed: 43</th>\n",
              "      <th>Unnamed: 44</th>\n",
              "      <th>Unnamed: 45</th>\n",
              "      <th>Unnamed: 46</th>\n",
              "      <th>Unnamed: 47</th>\n",
              "      <th>Unnamed: 48</th>\n",
              "      <th>Unnamed: 49</th>\n",
              "      <th>Unnamed: 50</th>\n",
              "      <th>Unnamed: 51</th>\n",
              "      <th>Unnamed: 52</th>\n",
              "      <th>Unnamed: 53</th>\n",
              "      <th>Unnamed: 54</th>\n",
              "      <th>Unnamed: 55</th>\n",
              "      <th>Unnamed: 56</th>\n",
              "      <th>Unnamed: 57</th>\n",
              "      <th>Unnamed: 58</th>\n",
              "      <th>Unnamed: 59</th>\n",
              "      <th>Unnamed: 60</th>\n",
              "      <th>Unnamed: 61</th>\n",
              "      <th>Unnamed: 62</th>\n",
              "      <th>Unnamed: 63</th>\n",
              "      <th>Unnamed: 64</th>\n",
              "    </tr>\n",
              "  </thead>\n",
              "  <tbody>\n",
              "    <tr>\n",
              "      <th>0</th>\n",
              "      <td>Korm</td>\n",
              "      <td>KM</td>\n",
              "      <td>Grow</td>\n",
              "      <td>01-03-2021</td>\n",
              "      <td>KM-47846</td>\n",
              "      <td>01-03-2021 10:26</td>\n",
              "      <td>Closed</td>\n",
              "      <td>NaN</td>\n",
              "      <td>0</td>\n",
              "      <td>250</td>\n",
              "      <td>0.0</td>\n",
              "      <td>0.0</td>\n",
              "      <td>NaN</td>\n",
              "      <td>NaN</td>\n",
              "      <td>NaN</td>\n",
              "      <td>NaN</td>\n",
              "      <td>NaN</td>\n",
              "      <td>NaN</td>\n",
              "      <td>NaN</td>\n",
              "      <td>NaN</td>\n",
              "      <td>NaN</td>\n",
              "      <td>NaN</td>\n",
              "      <td>NaN</td>\n",
              "      <td>NaN</td>\n",
              "      <td>NaN</td>\n",
              "      <td>NaN</td>\n",
              "      <td>NaN</td>\n",
              "      <td>NaN</td>\n",
              "      <td>NaN</td>\n",
              "      <td>NaN</td>\n",
              "      <td>NaN</td>\n",
              "      <td>NaN</td>\n",
              "      <td>NaN</td>\n",
              "      <td>NaN</td>\n",
              "      <td>NaN</td>\n",
              "      <td>NaN</td>\n",
              "      <td>NaN</td>\n",
              "      <td>NaN</td>\n",
              "      <td>NaN</td>\n",
              "      <td>NaN</td>\n",
              "      <td>NaN</td>\n",
              "      <td>NaN</td>\n",
              "      <td>NaN</td>\n",
              "      <td>NaN</td>\n",
              "      <td>NaN</td>\n",
              "      <td>NaN</td>\n",
              "      <td>NaN</td>\n",
              "      <td>NaN</td>\n",
              "      <td>NaN</td>\n",
              "      <td>NaN</td>\n",
              "      <td>NaN</td>\n",
              "      <td>NaN</td>\n",
              "      <td>NaN</td>\n",
              "      <td>NaN</td>\n",
              "      <td>NaN</td>\n",
              "      <td>NaN</td>\n",
              "      <td>NaN</td>\n",
              "      <td>NaN</td>\n",
              "      <td>NaN</td>\n",
              "      <td>NaN</td>\n",
              "      <td>NaN</td>\n",
              "      <td>NaN</td>\n",
              "      <td>NaN</td>\n",
              "      <td>NaN</td>\n",
              "      <td>NaN</td>\n",
              "    </tr>\n",
              "    <tr>\n",
              "      <th>1</th>\n",
              "      <td>Korm</td>\n",
              "      <td>KM</td>\n",
              "      <td>Grow</td>\n",
              "      <td>01-03-2021</td>\n",
              "      <td>KM-47847</td>\n",
              "      <td>01-03-2021 10:27</td>\n",
              "      <td>Closed</td>\n",
              "      <td>NaN</td>\n",
              "      <td>0</td>\n",
              "      <td>250</td>\n",
              "      <td>0.0</td>\n",
              "      <td>0.0</td>\n",
              "      <td>NaN</td>\n",
              "      <td>NaN</td>\n",
              "      <td>NaN</td>\n",
              "      <td>NaN</td>\n",
              "      <td>NaN</td>\n",
              "      <td>NaN</td>\n",
              "      <td>NaN</td>\n",
              "      <td>NaN</td>\n",
              "      <td>NaN</td>\n",
              "      <td>NaN</td>\n",
              "      <td>NaN</td>\n",
              "      <td>NaN</td>\n",
              "      <td>NaN</td>\n",
              "      <td>NaN</td>\n",
              "      <td>NaN</td>\n",
              "      <td>NaN</td>\n",
              "      <td>NaN</td>\n",
              "      <td>NaN</td>\n",
              "      <td>NaN</td>\n",
              "      <td>NaN</td>\n",
              "      <td>NaN</td>\n",
              "      <td>NaN</td>\n",
              "      <td>NaN</td>\n",
              "      <td>NaN</td>\n",
              "      <td>NaN</td>\n",
              "      <td>NaN</td>\n",
              "      <td>NaN</td>\n",
              "      <td>NaN</td>\n",
              "      <td>NaN</td>\n",
              "      <td>NaN</td>\n",
              "      <td>NaN</td>\n",
              "      <td>NaN</td>\n",
              "      <td>NaN</td>\n",
              "      <td>NaN</td>\n",
              "      <td>NaN</td>\n",
              "      <td>NaN</td>\n",
              "      <td>NaN</td>\n",
              "      <td>NaN</td>\n",
              "      <td>NaN</td>\n",
              "      <td>NaN</td>\n",
              "      <td>NaN</td>\n",
              "      <td>NaN</td>\n",
              "      <td>NaN</td>\n",
              "      <td>NaN</td>\n",
              "      <td>NaN</td>\n",
              "      <td>NaN</td>\n",
              "      <td>NaN</td>\n",
              "      <td>NaN</td>\n",
              "      <td>NaN</td>\n",
              "      <td>NaN</td>\n",
              "      <td>NaN</td>\n",
              "      <td>NaN</td>\n",
              "      <td>NaN</td>\n",
              "    </tr>\n",
              "    <tr>\n",
              "      <th>2</th>\n",
              "      <td>Korm</td>\n",
              "      <td>KM</td>\n",
              "      <td>Grow</td>\n",
              "      <td>01-03-2021</td>\n",
              "      <td>KM-47848</td>\n",
              "      <td>01-03-2021 10:28</td>\n",
              "      <td>Closed</td>\n",
              "      <td>NaN</td>\n",
              "      <td>0</td>\n",
              "      <td>285</td>\n",
              "      <td>0.0</td>\n",
              "      <td>0.0</td>\n",
              "      <td>NaN</td>\n",
              "      <td>NaN</td>\n",
              "      <td>NaN</td>\n",
              "      <td>NaN</td>\n",
              "      <td>NaN</td>\n",
              "      <td>NaN</td>\n",
              "      <td>NaN</td>\n",
              "      <td>NaN</td>\n",
              "      <td>NaN</td>\n",
              "      <td>NaN</td>\n",
              "      <td>NaN</td>\n",
              "      <td>NaN</td>\n",
              "      <td>NaN</td>\n",
              "      <td>NaN</td>\n",
              "      <td>NaN</td>\n",
              "      <td>NaN</td>\n",
              "      <td>NaN</td>\n",
              "      <td>NaN</td>\n",
              "      <td>NaN</td>\n",
              "      <td>NaN</td>\n",
              "      <td>NaN</td>\n",
              "      <td>NaN</td>\n",
              "      <td>NaN</td>\n",
              "      <td>NaN</td>\n",
              "      <td>NaN</td>\n",
              "      <td>NaN</td>\n",
              "      <td>NaN</td>\n",
              "      <td>NaN</td>\n",
              "      <td>NaN</td>\n",
              "      <td>NaN</td>\n",
              "      <td>NaN</td>\n",
              "      <td>NaN</td>\n",
              "      <td>NaN</td>\n",
              "      <td>NaN</td>\n",
              "      <td>NaN</td>\n",
              "      <td>NaN</td>\n",
              "      <td>NaN</td>\n",
              "      <td>NaN</td>\n",
              "      <td>NaN</td>\n",
              "      <td>NaN</td>\n",
              "      <td>NaN</td>\n",
              "      <td>NaN</td>\n",
              "      <td>NaN</td>\n",
              "      <td>NaN</td>\n",
              "      <td>NaN</td>\n",
              "      <td>NaN</td>\n",
              "      <td>NaN</td>\n",
              "      <td>NaN</td>\n",
              "      <td>NaN</td>\n",
              "      <td>NaN</td>\n",
              "      <td>NaN</td>\n",
              "      <td>NaN</td>\n",
              "      <td>NaN</td>\n",
              "    </tr>\n",
              "    <tr>\n",
              "      <th>3</th>\n",
              "      <td>Korm</td>\n",
              "      <td>KM</td>\n",
              "      <td>Grow</td>\n",
              "      <td>01-03-2021</td>\n",
              "      <td>KM-47849</td>\n",
              "      <td>01-03-2021 10:29</td>\n",
              "      <td>Closed</td>\n",
              "      <td>NaN</td>\n",
              "      <td>0</td>\n",
              "      <td>250</td>\n",
              "      <td>0.0</td>\n",
              "      <td>0.0</td>\n",
              "      <td>NaN</td>\n",
              "      <td>NaN</td>\n",
              "      <td>NaN</td>\n",
              "      <td>NaN</td>\n",
              "      <td>NaN</td>\n",
              "      <td>NaN</td>\n",
              "      <td>NaN</td>\n",
              "      <td>NaN</td>\n",
              "      <td>NaN</td>\n",
              "      <td>NaN</td>\n",
              "      <td>NaN</td>\n",
              "      <td>NaN</td>\n",
              "      <td>NaN</td>\n",
              "      <td>NaN</td>\n",
              "      <td>NaN</td>\n",
              "      <td>NaN</td>\n",
              "      <td>NaN</td>\n",
              "      <td>NaN</td>\n",
              "      <td>NaN</td>\n",
              "      <td>NaN</td>\n",
              "      <td>NaN</td>\n",
              "      <td>NaN</td>\n",
              "      <td>NaN</td>\n",
              "      <td>NaN</td>\n",
              "      <td>NaN</td>\n",
              "      <td>NaN</td>\n",
              "      <td>NaN</td>\n",
              "      <td>NaN</td>\n",
              "      <td>NaN</td>\n",
              "      <td>NaN</td>\n",
              "      <td>NaN</td>\n",
              "      <td>NaN</td>\n",
              "      <td>NaN</td>\n",
              "      <td>NaN</td>\n",
              "      <td>NaN</td>\n",
              "      <td>NaN</td>\n",
              "      <td>NaN</td>\n",
              "      <td>NaN</td>\n",
              "      <td>NaN</td>\n",
              "      <td>NaN</td>\n",
              "      <td>NaN</td>\n",
              "      <td>NaN</td>\n",
              "      <td>NaN</td>\n",
              "      <td>NaN</td>\n",
              "      <td>NaN</td>\n",
              "      <td>NaN</td>\n",
              "      <td>NaN</td>\n",
              "      <td>NaN</td>\n",
              "      <td>NaN</td>\n",
              "      <td>NaN</td>\n",
              "      <td>NaN</td>\n",
              "      <td>NaN</td>\n",
              "      <td>NaN</td>\n",
              "    </tr>\n",
              "    <tr>\n",
              "      <th>4</th>\n",
              "      <td>Korm</td>\n",
              "      <td>KM</td>\n",
              "      <td>Grow</td>\n",
              "      <td>01-03-2021</td>\n",
              "      <td>KM-47850</td>\n",
              "      <td>01-03-2021 10:29</td>\n",
              "      <td>Closed</td>\n",
              "      <td>NaN</td>\n",
              "      <td>0</td>\n",
              "      <td>305</td>\n",
              "      <td>0.0</td>\n",
              "      <td>0.0</td>\n",
              "      <td>NaN</td>\n",
              "      <td>NaN</td>\n",
              "      <td>NaN</td>\n",
              "      <td>NaN</td>\n",
              "      <td>NaN</td>\n",
              "      <td>NaN</td>\n",
              "      <td>NaN</td>\n",
              "      <td>NaN</td>\n",
              "      <td>NaN</td>\n",
              "      <td>NaN</td>\n",
              "      <td>NaN</td>\n",
              "      <td>NaN</td>\n",
              "      <td>NaN</td>\n",
              "      <td>NaN</td>\n",
              "      <td>NaN</td>\n",
              "      <td>NaN</td>\n",
              "      <td>NaN</td>\n",
              "      <td>NaN</td>\n",
              "      <td>NaN</td>\n",
              "      <td>NaN</td>\n",
              "      <td>NaN</td>\n",
              "      <td>NaN</td>\n",
              "      <td>NaN</td>\n",
              "      <td>NaN</td>\n",
              "      <td>NaN</td>\n",
              "      <td>NaN</td>\n",
              "      <td>NaN</td>\n",
              "      <td>NaN</td>\n",
              "      <td>NaN</td>\n",
              "      <td>NaN</td>\n",
              "      <td>NaN</td>\n",
              "      <td>NaN</td>\n",
              "      <td>NaN</td>\n",
              "      <td>NaN</td>\n",
              "      <td>NaN</td>\n",
              "      <td>NaN</td>\n",
              "      <td>NaN</td>\n",
              "      <td>NaN</td>\n",
              "      <td>NaN</td>\n",
              "      <td>NaN</td>\n",
              "      <td>NaN</td>\n",
              "      <td>NaN</td>\n",
              "      <td>NaN</td>\n",
              "      <td>NaN</td>\n",
              "      <td>NaN</td>\n",
              "      <td>NaN</td>\n",
              "      <td>NaN</td>\n",
              "      <td>NaN</td>\n",
              "      <td>NaN</td>\n",
              "      <td>NaN</td>\n",
              "      <td>NaN</td>\n",
              "      <td>NaN</td>\n",
              "      <td>NaN</td>\n",
              "    </tr>\n",
              "  </tbody>\n",
              "</table>\n",
              "</div>"
            ],
            "text/plain": [
              "  branch_name branch_code brand_name  ... Unnamed: 62 Unnamed: 63 Unnamed: 64\n",
              "0        Korm          KM       Grow  ...         NaN         NaN         NaN\n",
              "1        Korm          KM       Grow  ...         NaN         NaN         NaN\n",
              "2        Korm          KM       Grow  ...         NaN         NaN         NaN\n",
              "3        Korm          KM       Grow  ...         NaN         NaN         NaN\n",
              "4        Korm          KM       Grow  ...         NaN         NaN         NaN\n",
              "\n",
              "[5 rows x 65 columns]"
            ]
          },
          "metadata": {},
          "execution_count": 27
        }
      ]
    },
    {
      "cell_type": "code",
      "metadata": {
        "id": "vd1nkCEerptV"
      },
      "source": [
        "for index,col in enumerate(ris_api.columns):\n",
        "  if index>10:\n",
        "    ris_api=ris_api.drop(col,axis=1)\n",
        "\n",
        "  # Removing unnecessary column"
      ],
      "execution_count": 28,
      "outputs": []
    },
    {
      "cell_type": "code",
      "metadata": {
        "id": "aJ6sD143u2qt"
      },
      "source": [
        "ris_api.drop(labels=['branch_code','business_date'],axis=1,inplace=True)"
      ],
      "execution_count": 29,
      "outputs": []
    },
    {
      "cell_type": "code",
      "metadata": {
        "colab": {
          "base_uri": "https://localhost:8080/"
        },
        "id": "sToU9a0ar-Cm",
        "outputId": "a2f08547-356a-4035-8a65-3aec3cc02de0"
      },
      "source": [
        "count = dict()\n",
        "def funct(source_od):\n",
        "  if count.get(source_od) == None:\n",
        "    count[source_od] = 1\n",
        "  else:\n",
        "    count[source_od] = count[source_od] + 1 \n",
        "\n",
        "ris_api['source_order_number'].apply(lambda x: funct(x))\n",
        "# check how many times a source order number is repeating cause we only need unique order numbers."
      ],
      "execution_count": 30,
      "outputs": [
        {
          "output_type": "execute_result",
          "data": {
            "text/plain": [
              "0       None\n",
              "1       None\n",
              "2       None\n",
              "3       None\n",
              "4       None\n",
              "        ... \n",
              "5515    None\n",
              "5516    None\n",
              "5517    None\n",
              "5518    None\n",
              "5519    None\n",
              "Name: source_order_number, Length: 5520, dtype: object"
            ]
          },
          "metadata": {},
          "execution_count": 30
        }
      ]
    },
    {
      "cell_type": "code",
      "metadata": {
        "id": "JrLhb9piuAeP"
      },
      "source": [
        "ris_api = ris_api[ris_api['source_order_number'].apply(lambda x: count[x]==1)] # Keep only those source order number which are unique"
      ],
      "execution_count": 31,
      "outputs": []
    },
    {
      "cell_type": "code",
      "metadata": {
        "id": "DNqVezH7us6F"
      },
      "source": [
        "ris_api.reset_index(drop=True, inplace=True)"
      ],
      "execution_count": 32,
      "outputs": []
    },
    {
      "cell_type": "code",
      "metadata": {
        "id": "9HmCfvUyuVre"
      },
      "source": [
        "ris_api['invoice_date'] = pd.to_datetime(ris_api['invoice_date'])"
      ],
      "execution_count": 33,
      "outputs": []
    },
    {
      "cell_type": "code",
      "metadata": {
        "id": "D4Ror_fvuXZF"
      },
      "source": [
        "ris_api=ris_api[:2000]  #Keeping just top 2000"
      ],
      "execution_count": 34,
      "outputs": []
    },
    {
      "cell_type": "markdown",
      "metadata": {
        "id": "vYraaNcXvVdM"
      },
      "source": [
        "##Making Swiggy statement and Rista Api similar"
      ]
    },
    {
      "cell_type": "code",
      "metadata": {
        "id": "QEIHlLbTvI7u"
      },
      "source": [
        "swi_sta['order_date'] = ris_api['invoice_date'].copy()\n",
        "swi_sta['order_status'] = ris_api['sale_status'].copy()\n",
        "swi_sta['order_no'] = ris_api['source_order_number']\n",
        "swi_sta['gross_total'] = ris_api['gross_amount'].copy()\n",
        "swi_sta['discount_value'] = ris_api['discount'].copy()\n",
        "\n",
        "ris_api['Discount code'] = swi_sta['coupon_code'].copy()\n",
        "\n",
        "# Making all these column enteries same because I consider they would be mostly same in real scenario"
      ],
      "execution_count": 35,
      "outputs": []
    },
    {
      "cell_type": "code",
      "metadata": {
        "id": "loeGa_3_Ulh5"
      },
      "source": [
        "def funct(brand,discount_coupon):\n",
        "  if type(discount_coupon) == str:\n",
        "    return (discount_coupon+'-'+brand)\n",
        "  else:\n",
        "    return np.NaN\n",
        "\n",
        "ris_api['Coupon Index'] = ris_api.apply(lambda x: funct(x['brand_name'],x['Discount code']),axis=1)\n",
        "\n",
        "# Made a temporary function, which is used to create another column with composite enteries of the type DISCOUNT_COUPON-BRAND"
      ],
      "execution_count": 36,
      "outputs": []
    },
    {
      "cell_type": "markdown",
      "metadata": {
        "id": "XudD1QtFZXx2"
      },
      "source": [
        "#Show the data"
      ]
    },
    {
      "cell_type": "code",
      "metadata": {
        "colab": {
          "base_uri": "https://localhost:8080/",
          "height": 0
        },
        "id": "vg3Mc5zEZf_1",
        "outputId": "edc87bc9-6048-425c-b99f-55c9bcbaf4ca"
      },
      "source": [
        "dis_str.head()"
      ],
      "execution_count": 37,
      "outputs": [
        {
          "output_type": "execute_result",
          "data": {
            "text/html": [
              "<div>\n",
              "<style scoped>\n",
              "    .dataframe tbody tr th:only-of-type {\n",
              "        vertical-align: middle;\n",
              "    }\n",
              "\n",
              "    .dataframe tbody tr th {\n",
              "        vertical-align: top;\n",
              "    }\n",
              "\n",
              "    .dataframe thead th {\n",
              "        text-align: right;\n",
              "    }\n",
              "</style>\n",
              "<table border=\"1\" class=\"dataframe\">\n",
              "  <thead>\n",
              "    <tr style=\"text-align: right;\">\n",
              "      <th></th>\n",
              "      <th>Brands</th>\n",
              "      <th>Discount Coupon</th>\n",
              "      <th>Active (Y/N)</th>\n",
              "      <th>Min Ord value1</th>\n",
              "      <th>Discount percentage1</th>\n",
              "      <th>Max Discount Amount1</th>\n",
              "      <th>Day1</th>\n",
              "      <th>Dates</th>\n",
              "      <th>MinTime1</th>\n",
              "      <th>MaxTime1</th>\n",
              "      <th>Coupon Index</th>\n",
              "    </tr>\n",
              "  </thead>\n",
              "  <tbody>\n",
              "    <tr>\n",
              "      <th>0</th>\n",
              "      <td>[Grow, Ghar]</td>\n",
              "      <td>SWIGGYIT</td>\n",
              "      <td>y</td>\n",
              "      <td>149</td>\n",
              "      <td>30</td>\n",
              "      <td>75</td>\n",
              "      <td>NaN</td>\n",
              "      <td>(1, 31)</td>\n",
              "      <td>NaT</td>\n",
              "      <td>NaT</td>\n",
              "      <td>[SWIGGYIT-Grow, SWIGGYIT-Ghar]</td>\n",
              "    </tr>\n",
              "    <tr>\n",
              "      <th>1</th>\n",
              "      <td>[Grow, Ghar]</td>\n",
              "      <td>JUMBO</td>\n",
              "      <td>y</td>\n",
              "      <td>400</td>\n",
              "      <td>20</td>\n",
              "      <td>100</td>\n",
              "      <td>NaN</td>\n",
              "      <td>(1, 31)</td>\n",
              "      <td>NaT</td>\n",
              "      <td>NaT</td>\n",
              "      <td>[JUMBO-Grow, JUMBO-Ghar]</td>\n",
              "    </tr>\n",
              "    <tr>\n",
              "      <th>2</th>\n",
              "      <td>[Grow, Ghar]</td>\n",
              "      <td>PARTY</td>\n",
              "      <td>y</td>\n",
              "      <td>800</td>\n",
              "      <td>15</td>\n",
              "      <td>300</td>\n",
              "      <td>[Mon, Tue, Thu, Fri]</td>\n",
              "      <td>(1, 31)</td>\n",
              "      <td>1900-01-01 00:00:00</td>\n",
              "      <td>1900-01-01 16:00:00</td>\n",
              "      <td>[PARTY-Grow, PARTY-Ghar]</td>\n",
              "    </tr>\n",
              "    <tr>\n",
              "      <th>3</th>\n",
              "      <td>[Grow]</td>\n",
              "      <td>DEAL60</td>\n",
              "      <td>y</td>\n",
              "      <td>0</td>\n",
              "      <td>15</td>\n",
              "      <td>120</td>\n",
              "      <td>[Wed, Fri, Sat, Sun]</td>\n",
              "      <td>[12, 19, 26, 31]</td>\n",
              "      <td>1900-01-01 16:00:00</td>\n",
              "      <td>1900-01-01 23:59:00</td>\n",
              "      <td>[DEAL60-Grow]</td>\n",
              "    </tr>\n",
              "    <tr>\n",
              "      <th>4</th>\n",
              "      <td>[Ghar]</td>\n",
              "      <td>DEAL60</td>\n",
              "      <td>y</td>\n",
              "      <td>149</td>\n",
              "      <td>60</td>\n",
              "      <td>120</td>\n",
              "      <td>NaN</td>\n",
              "      <td>[13, 20, 27, 31]</td>\n",
              "      <td>NaT</td>\n",
              "      <td>NaT</td>\n",
              "      <td>[DEAL60-Ghar]</td>\n",
              "    </tr>\n",
              "  </tbody>\n",
              "</table>\n",
              "</div>"
            ],
            "text/plain": [
              "         Brands  ...                    Coupon Index\n",
              "0  [Grow, Ghar]  ...  [SWIGGYIT-Grow, SWIGGYIT-Ghar]\n",
              "1  [Grow, Ghar]  ...        [JUMBO-Grow, JUMBO-Ghar]\n",
              "2  [Grow, Ghar]  ...        [PARTY-Grow, PARTY-Ghar]\n",
              "3        [Grow]  ...                   [DEAL60-Grow]\n",
              "4        [Ghar]  ...                   [DEAL60-Ghar]\n",
              "\n",
              "[5 rows x 11 columns]"
            ]
          },
          "metadata": {},
          "execution_count": 37
        }
      ]
    },
    {
      "cell_type": "code",
      "metadata": {
        "colab": {
          "base_uri": "https://localhost:8080/",
          "height": 0
        },
        "id": "9Aa_h_WnZwsX",
        "outputId": "6c7ffa59-2d2c-48d7-bfab-cbc116b497c6"
      },
      "source": [
        "swi_sta.head()"
      ],
      "execution_count": 38,
      "outputs": [
        {
          "output_type": "execute_result",
          "data": {
            "text/html": [
              "<div>\n",
              "<style scoped>\n",
              "    .dataframe tbody tr th:only-of-type {\n",
              "        vertical-align: middle;\n",
              "    }\n",
              "\n",
              "    .dataframe tbody tr th {\n",
              "        vertical-align: top;\n",
              "    }\n",
              "\n",
              "    .dataframe thead th {\n",
              "        text-align: right;\n",
              "    }\n",
              "</style>\n",
              "<table border=\"1\" class=\"dataframe\">\n",
              "  <thead>\n",
              "    <tr style=\"text-align: right;\">\n",
              "      <th></th>\n",
              "      <th>Kitchen_id</th>\n",
              "      <th>order_date</th>\n",
              "      <th>order_no</th>\n",
              "      <th>order_status</th>\n",
              "      <th>gross_total</th>\n",
              "      <th>discount_value</th>\n",
              "      <th>coupon_code</th>\n",
              "    </tr>\n",
              "  </thead>\n",
              "  <tbody>\n",
              "    <tr>\n",
              "      <th>0</th>\n",
              "      <td>228127</td>\n",
              "      <td>2021-01-03 11:08:00</td>\n",
              "      <td>97652300686</td>\n",
              "      <td>Closed</td>\n",
              "      <td>329</td>\n",
              "      <td>-75.00</td>\n",
              "      <td>SWIGGYIT</td>\n",
              "    </tr>\n",
              "    <tr>\n",
              "      <th>1</th>\n",
              "      <td>228127</td>\n",
              "      <td>2021-01-03 10:54:00</td>\n",
              "      <td>97651497829</td>\n",
              "      <td>Cancel</td>\n",
              "      <td>498</td>\n",
              "      <td>0.00</td>\n",
              "      <td>NaN</td>\n",
              "    </tr>\n",
              "    <tr>\n",
              "      <th>2</th>\n",
              "      <td>228127</td>\n",
              "      <td>2021-01-03 11:07:00</td>\n",
              "      <td>1725989242</td>\n",
              "      <td>Closed</td>\n",
              "      <td>249</td>\n",
              "      <td>0.00</td>\n",
              "      <td>SWIGGYIT</td>\n",
              "    </tr>\n",
              "    <tr>\n",
              "      <th>3</th>\n",
              "      <td>228127</td>\n",
              "      <td>2021-01-03 11:10:00</td>\n",
              "      <td>97652381277</td>\n",
              "      <td>Closed</td>\n",
              "      <td>344</td>\n",
              "      <td>-74.99</td>\n",
              "      <td>NaN</td>\n",
              "    </tr>\n",
              "    <tr>\n",
              "      <th>4</th>\n",
              "      <td>228127</td>\n",
              "      <td>2021-01-03 11:04:00</td>\n",
              "      <td>97652085234</td>\n",
              "      <td>Closed</td>\n",
              "      <td>209</td>\n",
              "      <td>0.00</td>\n",
              "      <td>NaN</td>\n",
              "    </tr>\n",
              "  </tbody>\n",
              "</table>\n",
              "</div>"
            ],
            "text/plain": [
              "  Kitchen_id          order_date  ...  discount_value coupon_code\n",
              "0     228127 2021-01-03 11:08:00  ...          -75.00    SWIGGYIT\n",
              "1     228127 2021-01-03 10:54:00  ...            0.00         NaN\n",
              "2     228127 2021-01-03 11:07:00  ...            0.00    SWIGGYIT\n",
              "3     228127 2021-01-03 11:10:00  ...          -74.99         NaN\n",
              "4     228127 2021-01-03 11:04:00  ...            0.00         NaN\n",
              "\n",
              "[5 rows x 7 columns]"
            ]
          },
          "metadata": {},
          "execution_count": 38
        }
      ]
    },
    {
      "cell_type": "code",
      "metadata": {
        "colab": {
          "base_uri": "https://localhost:8080/",
          "height": 0
        },
        "id": "hk3vZrdiZwqN",
        "outputId": "78484a13-39c5-4364-ab05-1ba215195e26"
      },
      "source": [
        "ris_api.head()"
      ],
      "execution_count": 39,
      "outputs": [
        {
          "output_type": "execute_result",
          "data": {
            "text/html": [
              "<div>\n",
              "<style scoped>\n",
              "    .dataframe tbody tr th:only-of-type {\n",
              "        vertical-align: middle;\n",
              "    }\n",
              "\n",
              "    .dataframe tbody tr th {\n",
              "        vertical-align: top;\n",
              "    }\n",
              "\n",
              "    .dataframe thead th {\n",
              "        text-align: right;\n",
              "    }\n",
              "</style>\n",
              "<table border=\"1\" class=\"dataframe\">\n",
              "  <thead>\n",
              "    <tr style=\"text-align: right;\">\n",
              "      <th></th>\n",
              "      <th>branch_name</th>\n",
              "      <th>brand_name</th>\n",
              "      <th>invoice_number</th>\n",
              "      <th>invoice_date</th>\n",
              "      <th>sale_status</th>\n",
              "      <th>order_source</th>\n",
              "      <th>source_order_number</th>\n",
              "      <th>gross_amount</th>\n",
              "      <th>discount</th>\n",
              "      <th>Discount code</th>\n",
              "      <th>Coupon Index</th>\n",
              "    </tr>\n",
              "  </thead>\n",
              "  <tbody>\n",
              "    <tr>\n",
              "      <th>0</th>\n",
              "      <td>Doml</td>\n",
              "      <td>Grow</td>\n",
              "      <td>DMLRGF-60674</td>\n",
              "      <td>2021-01-03 11:08:00</td>\n",
              "      <td>Closed</td>\n",
              "      <td>swiggy</td>\n",
              "      <td>97652300686</td>\n",
              "      <td>329</td>\n",
              "      <td>-75.00</td>\n",
              "      <td>SWIGGYIT</td>\n",
              "      <td>SWIGGYIT-Grow</td>\n",
              "    </tr>\n",
              "    <tr>\n",
              "      <th>1</th>\n",
              "      <td>Korm</td>\n",
              "      <td>Grow</td>\n",
              "      <td>KM-47856</td>\n",
              "      <td>2021-01-03 10:54:00</td>\n",
              "      <td>Cancel</td>\n",
              "      <td>swiggy</td>\n",
              "      <td>97651497829</td>\n",
              "      <td>498</td>\n",
              "      <td>0.00</td>\n",
              "      <td>NaN</td>\n",
              "      <td>NaN</td>\n",
              "    </tr>\n",
              "    <tr>\n",
              "      <th>2</th>\n",
              "      <td>Korm</td>\n",
              "      <td>Ghar</td>\n",
              "      <td>KM-47857</td>\n",
              "      <td>2021-01-03 11:07:00</td>\n",
              "      <td>Closed</td>\n",
              "      <td>zomato</td>\n",
              "      <td>1725989242</td>\n",
              "      <td>249</td>\n",
              "      <td>0.00</td>\n",
              "      <td>SWIGGYIT</td>\n",
              "      <td>SWIGGYIT-Ghar</td>\n",
              "    </tr>\n",
              "    <tr>\n",
              "      <th>3</th>\n",
              "      <td>JP N</td>\n",
              "      <td>Grow</td>\n",
              "      <td>JPN-45067</td>\n",
              "      <td>2021-01-03 11:10:00</td>\n",
              "      <td>Closed</td>\n",
              "      <td>swiggy</td>\n",
              "      <td>97652381277</td>\n",
              "      <td>344</td>\n",
              "      <td>-74.99</td>\n",
              "      <td>NaN</td>\n",
              "      <td>NaN</td>\n",
              "    </tr>\n",
              "    <tr>\n",
              "      <th>4</th>\n",
              "      <td>Madh</td>\n",
              "      <td>Grow</td>\n",
              "      <td>MDH-30163</td>\n",
              "      <td>2021-01-03 11:04:00</td>\n",
              "      <td>Closed</td>\n",
              "      <td>swiggy</td>\n",
              "      <td>97652085234</td>\n",
              "      <td>209</td>\n",
              "      <td>0.00</td>\n",
              "      <td>NaN</td>\n",
              "      <td>NaN</td>\n",
              "    </tr>\n",
              "  </tbody>\n",
              "</table>\n",
              "</div>"
            ],
            "text/plain": [
              "  branch_name brand_name invoice_number  ... discount Discount code   Coupon Index\n",
              "0        Doml       Grow   DMLRGF-60674  ...   -75.00      SWIGGYIT  SWIGGYIT-Grow\n",
              "1        Korm       Grow       KM-47856  ...     0.00           NaN            NaN\n",
              "2        Korm       Ghar       KM-47857  ...     0.00      SWIGGYIT  SWIGGYIT-Ghar\n",
              "3        JP N       Grow      JPN-45067  ...   -74.99           NaN            NaN\n",
              "4        Madh       Grow      MDH-30163  ...     0.00           NaN            NaN\n",
              "\n",
              "[5 rows x 11 columns]"
            ]
          },
          "metadata": {},
          "execution_count": 39
        }
      ]
    },
    {
      "cell_type": "markdown",
      "metadata": {
        "id": "oa2A-M3naqFH"
      },
      "source": [
        "#Validate the order"
      ]
    },
    {
      "cell_type": "code",
      "metadata": {
        "id": "gUZEIOERayhm"
      },
      "source": [
        "api_opr = ris_api[ris_api['order_source'] == 'swiggy']  #working on rista api for Swiggy order source"
      ],
      "execution_count": 40,
      "outputs": []
    },
    {
      "cell_type": "code",
      "metadata": {
        "id": "h9jp3lPmbjxe"
      },
      "source": [
        "api_opr=api_opr[api_opr['sale_status'] == \"Closed\"] #Operating on rista api for Swiggy order source and completed order"
      ],
      "execution_count": 41,
      "outputs": []
    },
    {
      "cell_type": "code",
      "metadata": {
        "id": "FDT6bYgKbxqd"
      },
      "source": [
        "api_opr.reset_index(drop=True, inplace=True)  #resetting the index"
      ],
      "execution_count": 42,
      "outputs": []
    },
    {
      "cell_type": "markdown",
      "metadata": {
        "id": "4St4yBCXaMyl"
      },
      "source": [
        "#Validate the discount"
      ]
    },
    {
      "cell_type": "code",
      "metadata": {
        "colab": {
          "base_uri": "https://localhost:8080/"
        },
        "id": "fmJXnH2ubzjh",
        "outputId": "8582e2a6-b99d-4860-c258-67610665abdf"
      },
      "source": [
        "order_with_no_coupon = api_opr[api_opr['Discount code'].apply(lambda x: type(x) != str) ] #Picking those order who do not have coupon\n",
        "order_with_no_coupon['discount'] = 0"
      ],
      "execution_count": 43,
      "outputs": [
        {
          "output_type": "stream",
          "text": [
            "/usr/local/lib/python3.7/dist-packages/ipykernel_launcher.py:2: SettingWithCopyWarning: \n",
            "A value is trying to be set on a copy of a slice from a DataFrame.\n",
            "Try using .loc[row_indexer,col_indexer] = value instead\n",
            "\n",
            "See the caveats in the documentation: https://pandas.pydata.org/pandas-docs/stable/user_guide/indexing.html#returning-a-view-versus-a-copy\n",
            "  \n"
          ],
          "name": "stderr"
        }
      ]
    },
    {
      "cell_type": "code",
      "metadata": {
        "colab": {
          "base_uri": "https://localhost:8080/"
        },
        "id": "RTTcTY1rdEe5",
        "outputId": "1baa8ceb-f5c0-4897-9f49-2bf305258761"
      },
      "source": [
        "order_with_no_coupon.shape"
      ],
      "execution_count": 44,
      "outputs": [
        {
          "output_type": "execute_result",
          "data": {
            "text/plain": [
              "(729, 11)"
            ]
          },
          "metadata": {},
          "execution_count": 44
        }
      ]
    },
    {
      "cell_type": "code",
      "metadata": {
        "id": "0ERqqw76ou5l"
      },
      "source": [
        "api_dis_merge = pd.merge(api_opr, dis_str,left_on='Discount code', right_on='Discount Coupon',  how='inner').drop('Discount Coupon',axis=1)\n",
        "\n",
        "#Joined the two dataframe using coupon codes but brand may still be different. Also removed those order who do not have coupon code."
      ],
      "execution_count": 45,
      "outputs": []
    },
    {
      "cell_type": "code",
      "metadata": {
        "id": "a01TaqL-oug9"
      },
      "source": [
        "def funct(Index_x,Index_y):\n",
        "  if type(Index_x) == str:\n",
        "    if Index_x in Index_y:\n",
        "      return True\n",
        "    else:\n",
        "      return False\n",
        "  return False\n",
        "\n",
        "api_dis_merge=api_dis_merge[api_dis_merge.apply(lambda x: funct(x['Coupon Index_x'],x['Coupon Index_y']),axis=1)]\n",
        "\n",
        "#Here we remove those orders which though have the same coupon code but different brand name."
      ],
      "execution_count": 46,
      "outputs": []
    },
    {
      "cell_type": "code",
      "metadata": {
        "id": "EYq2EeFKb6Jv"
      },
      "source": [
        "def coupon_active(active):\n",
        "  if active.lower()=='y':\n",
        "    return True\n",
        "  return False\n",
        "\n",
        "api_dis_merge=api_dis_merge[api_dis_merge['Active (Y/N)'].apply(lambda x: coupon_active(x))][api_dis_merge['gross_amount'] >= api_dis_merge['Min Ord value1']]\n",
        "\n",
        "# Remove those order who do not have active coupon or gross total is less than the min value for which discount can be applied "
      ],
      "execution_count": 47,
      "outputs": []
    },
    {
      "cell_type": "code",
      "metadata": {
        "id": "a6X0zz22Xdmh"
      },
      "source": [
        "def funct(dates,invoice_date):\n",
        "  if type(dates) == tuple:\n",
        "    if invoice_date>=dates[0] and invoice_date<=dates[1]:\n",
        "      return True\n",
        "    else:\n",
        "      return False\n",
        "  elif type(dates)==list:\n",
        "    for each in dates:\n",
        "      if each == invoice_date:\n",
        "        return True\n",
        "    return False\n",
        "  return True\n",
        "\n",
        "api_dis_merge = api_dis_merge[api_dis_merge.apply(lambda x: funct(x['Dates'], x['invoice_date'].day),axis=1)]\n",
        "\n",
        "# Remove those whose invoice days do not much with the coupon days"
      ],
      "execution_count": 48,
      "outputs": []
    },
    {
      "cell_type": "code",
      "metadata": {
        "id": "nwkUhz0ZurAI"
      },
      "source": [
        "def funct(days,day):\n",
        "  if type(days) != list:\n",
        "    return True\n",
        "  for i in days:\n",
        "    if re.search(i.lower(),day.lower()):\n",
        "      return True\n",
        "  return False\n",
        "\n",
        "api_dis_merge = api_dis_merge[api_dis_merge.apply(lambda x: funct(x['Day1'],x['invoice_date'].day_name()),axis=1)]\n",
        "\n",
        "# Check if the day name marches for the coupon, if yes keep them otherwise discard them"
      ],
      "execution_count": 49,
      "outputs": []
    },
    {
      "cell_type": "code",
      "metadata": {
        "id": "11P_8nKyZG5E"
      },
      "source": [
        "def funct(mintime,maxtime,invoice_date):\n",
        "  if type(mintime) != pd._libs.tslibs.timestamps.Timestamp:\n",
        "    return True\n",
        "\n",
        "  if type(maxtime) != pd._libs.tslibs.timestamps.Timestamp:\n",
        "    return True\n",
        "\n",
        "  if invoice_date.hour > mintime.hour and invoice_date.hour < maxtime.hour:\n",
        "    return True\n",
        "  elif invoice_date.hour == mintime.hour and invoice_date.hour < maxtime.hour:\n",
        "    if invoice_date.minute >=mintime.minute:\n",
        "      return True\n",
        "    else:\n",
        "      return False\n",
        "  elif invoice_date.hour > mintime.hour and invoice_date.hour == maxtime.hour:\n",
        "    if invoice_date.minute <= maxtime.minute:\n",
        "      return True\n",
        "    else:\n",
        "      return False\n",
        "  else:\n",
        "    if invoice_date.minute <= maxtime.minute and invoice_date.minute >=mintime.minute:\n",
        "      return True\n",
        "    else:\n",
        "      return False\n",
        "  return False\n",
        "\n",
        "# this function checks if the data is not null then whether the hour and minute satisfy.\n",
        "\n",
        "api_dis_merge = api_dis_merge[api_dis_merge.apply(lambda x: funct(x['MinTime1'],x['MaxTime1'], x['invoice_date']),axis=1)]\n",
        "\n",
        "# Check if the timing matches for the coupon and order"
      ],
      "execution_count": 50,
      "outputs": []
    },
    {
      "cell_type": "code",
      "metadata": {
        "id": "XhayiJhvde_d"
      },
      "source": [
        "api_dis_merge = api_dis_merge[api_dis_merge.apply(lambda x: (abs(x['discount']) == x['Max Discount Amount1']) or ((abs(x['discount'])) == round((x['gross_amount'] * x['Discount percentage1'])/100, 1)), axis=1)]"
      ],
      "execution_count": 51,
      "outputs": []
    },
    {
      "cell_type": "code",
      "metadata": {
        "colab": {
          "base_uri": "https://localhost:8080/"
        },
        "id": "etXAeoRrff1V",
        "outputId": "216d42ea-282c-4820-e84c-0b4d29ffb560"
      },
      "source": [
        "api_dis_merge.shape"
      ],
      "execution_count": 52,
      "outputs": [
        {
          "output_type": "execute_result",
          "data": {
            "text/plain": [
              "(320, 21)"
            ]
          },
          "metadata": {},
          "execution_count": 52
        }
      ]
    },
    {
      "cell_type": "markdown",
      "metadata": {
        "id": "846m_eWJcqOc"
      },
      "source": [
        "#Final Result"
      ]
    },
    {
      "cell_type": "code",
      "metadata": {
        "colab": {
          "base_uri": "https://localhost:8080/"
        },
        "id": "ug99a82yf5QM",
        "outputId": "d37586e2-d562-4a16-be48-e08fa015abb9"
      },
      "source": [
        "for index,col in enumerate(api_dis_merge.columns):\n",
        "  if index>9:\n",
        "    api_dis_merge=api_dis_merge.drop(col,axis=1)\n",
        "\n",
        "order_with_no_coupon.drop('Coupon Index', axis=1, inplace=True)\n",
        "\n",
        "# Removing unnecessary column"
      ],
      "execution_count": 53,
      "outputs": [
        {
          "output_type": "stream",
          "text": [
            "/usr/local/lib/python3.7/dist-packages/pandas/core/frame.py:4174: SettingWithCopyWarning: \n",
            "A value is trying to be set on a copy of a slice from a DataFrame\n",
            "\n",
            "See the caveats in the documentation: https://pandas.pydata.org/pandas-docs/stable/user_guide/indexing.html#returning-a-view-versus-a-copy\n",
            "  errors=errors,\n"
          ],
          "name": "stderr"
        }
      ]
    },
    {
      "cell_type": "code",
      "metadata": {
        "id": "cNDmXlsMcpDp"
      },
      "source": [
        "Final_merge = api_dis_merge.append(order_with_no_coupon) # Appending orders those have corrrect discount or no discount at all"
      ],
      "execution_count": 54,
      "outputs": []
    },
    {
      "cell_type": "code",
      "metadata": {
        "colab": {
          "base_uri": "https://localhost:8080/"
        },
        "id": "jWlfvNznhOdk",
        "outputId": "001a7ac9-8c12-454a-cfda-95b9ae20832f"
      },
      "source": [
        "Final_merge.shape"
      ],
      "execution_count": 55,
      "outputs": [
        {
          "output_type": "execute_result",
          "data": {
            "text/plain": [
              "(1049, 10)"
            ]
          },
          "metadata": {},
          "execution_count": 55
        }
      ]
    },
    {
      "cell_type": "code",
      "metadata": {
        "id": "6eoez4pUhvWU"
      },
      "source": [
        "last_check = pd.merge(Final_merge, swi_sta,left_on='source_order_number', right_on='order_no',  how='inner')  # Joining correct orders with swiggy statement for Reconciliation process"
      ],
      "execution_count": 56,
      "outputs": []
    },
    {
      "cell_type": "code",
      "metadata": {
        "colab": {
          "base_uri": "https://localhost:8080/"
        },
        "id": "_fSd1qyEiYA8",
        "outputId": "3d43ff8c-51f9-49f2-a2a6-64ecb0437a4a"
      },
      "source": [
        "last_check.shape"
      ],
      "execution_count": 57,
      "outputs": [
        {
          "output_type": "execute_result",
          "data": {
            "text/plain": [
              "(1049, 17)"
            ]
          },
          "metadata": {},
          "execution_count": 57
        }
      ]
    },
    {
      "cell_type": "code",
      "metadata": {
        "id": "dOu_GQrOic8s"
      },
      "source": [
        "last_check = last_check[last_check.apply(lambda x: (x['gross_amount']==x['gross_total']),axis=1)] # Checking if the gross value is same"
      ],
      "execution_count": 58,
      "outputs": []
    },
    {
      "cell_type": "code",
      "metadata": {
        "id": "o-scw0SXikHF"
      },
      "source": [
        "last_check = last_check[last_check.apply(lambda x: (x['discount']==x['discount_value']),axis=1)]  # Checking if the discount is same"
      ],
      "execution_count": 59,
      "outputs": []
    },
    {
      "cell_type": "code",
      "metadata": {
        "colab": {
          "base_uri": "https://localhost:8080/"
        },
        "id": "aPSQ8Jyaiq0c",
        "outputId": "0c7ab243-bdd0-4bae-8831-fa623fa7572b"
      },
      "source": [
        "last_check.shape"
      ],
      "execution_count": 60,
      "outputs": [
        {
          "output_type": "execute_result",
          "data": {
            "text/plain": [
              "(525, 17)"
            ]
          },
          "metadata": {},
          "execution_count": 60
        }
      ]
    }
  ]
}